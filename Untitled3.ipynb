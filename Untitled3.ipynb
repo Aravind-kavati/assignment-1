{
 "cells": [
  {
   "cell_type": "code",
   "execution_count": null,
   "id": "e5fad017-58e6-47c4-a4e0-14a5f2d5a0fb",
   "metadata": {},
   "outputs": [],
   "source": [
    "class Solution:\n",
    "    def moveZeroes(self, nums: List[int]) -> None:\n",
    "        x=len(nums)\n",
    "        curr=0\n",
    "        for num in nums:\n",
    "            if num!=0:\n",
    "                nums[curr]=num\n",
    "                curr=curr+1\n",
    "        while curr<x:\n",
    "            nums[curr]=0\n",
    "            curr=curr+1\n",
    "        return nums\n",
    "## solution 1"
   ]
  }
 ],
 "metadata": {
  "kernelspec": {
   "display_name": "Python 3 (ipykernel)",
   "language": "python",
   "name": "python3"
  },
  "language_info": {
   "codemirror_mode": {
    "name": "ipython",
    "version": 3
   },
   "file_extension": ".py",
   "mimetype": "text/x-python",
   "name": "python",
   "nbconvert_exporter": "python",
   "pygments_lexer": "ipython3",
   "version": "3.10.8"
  }
 },
 "nbformat": 4,
 "nbformat_minor": 5
}
